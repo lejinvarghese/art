{
  "cells": [
    {
      "cell_type": "code",
      "execution_count": 5,
      "metadata": {
        "colab": {
          "base_uri": "https://localhost:8080/"
        },
        "id": "ajL-n8zcnXYu",
        "outputId": "71845492-1b5e-4295-e366-ff9db89e80be"
      },
      "outputs": [
        {
          "name": "stdout",
          "output_type": "stream",
          "text": [
            "Google Colab detected. Using Google Drive.\n",
            "Drive already mounted at /content/drive; to attempt to forcibly remount, call drive.mount(\"/content/drive\", force_remount=True).\n"
          ]
        }
      ],
      "source": [
        "try:\n",
        "    from google.colab import drive\n",
        "\n",
        "    print(\"Google Colab detected. Using Google Drive.\")\n",
        "    is_colab = True\n",
        "    # @markdown If you connect your Google Drive, you can save the final image of each run on your drive.\n",
        "    google_drive = True  # @param {type:\"boolean\"}\n",
        "    # @markdown Click here if you'd like to save the diffusion model checkpoint file to (and/or load from) your Google Drive:\n",
        "    save_models_to_google_drive = True  # @param {type:\"boolean\"}\n",
        "except:\n",
        "    is_colab = False\n",
        "    google_drive = False\n",
        "    save_models_to_google_drive = False\n",
        "    print(\"Google Colab not detected.\")\n",
        "\n",
        "if is_colab:\n",
        "    if google_drive is True:\n",
        "        drive.mount(\"/content/drive\")\n",
        "        root_path = \"/content/drive/MyDrive/AI/Disco_Diffusion\"\n",
        "    else:\n",
        "        root_path = \"/content\"\n",
        "else:\n",
        "    root_path = \".\"\n",
        "\n",
        "import os\n",
        "from os import path\n",
        "\n",
        "initDirPath = f\"{root_path}/init_images\"\n",
        "outDirPath = f\"{root_path}/images_out\""
      ]
    },
    {
      "cell_type": "code",
      "execution_count": 12,
      "metadata": {
        "colab": {
          "base_uri": "https://localhost:8080/"
        },
        "id": "-fhgF0CSljMw",
        "outputId": "e99291fa-10a4-42d4-d434-0c80bc26e163"
      },
      "outputs": [
        {
          "name": "stdout",
          "output_type": "stream",
          "text": [
            "The video is ready and saved to the images folder\n"
          ]
        }
      ],
      "source": [
        "import subprocess\n",
        "from base64 import b64encode\n",
        "from glob import glob\n",
        "\n",
        "latest_run = 49\n",
        "\n",
        "folder = batch_name = 'disco_heartbreak'\n",
        "batchFolder = f\"{outDirPath}/{batch_name}\"\n",
        "run = 2  # @param\n",
        "final_frame = latest_run\n",
        "\n",
        "init_frame = (\n",
        "    0  # @param {type:\"number\"} This is the frame where the video will start\n",
        ")\n",
        "last_frame = final_frame  # @param {type:\"number\"} You can change i to the number of the last frame you want to generate. It will raise an error if that number of frames does not exist.\n",
        "fps = 6  # @param {type:\"number\"}\n",
        "# view_video_in_cell = True #@param {type: 'boolean'}\n",
        "\n",
        "frames = []\n",
        "# tqdm.write('Generating video...')\n",
        "\n",
        "if last_frame == \"final_frame\":\n",
        "    last_frame = len(glob(batchFolder + f\"/{folder}({run})_*.png\"))\n",
        "    print(f\"Total frames: {last_frame}\")\n",
        "\n",
        "image_path = f\"{outDirPath}/{folder}/{folder}({run})_%d.png\"\n",
        "filepath = f\"{outDirPath}/{folder}/{folder}({run}).mp4\"\n",
        "\n",
        "cmd = [\n",
        "    \"ffmpeg\",\n",
        "    \"-y\",\n",
        "    \"-vcodec\",\n",
        "    \"png\",\n",
        "    \"-r\",\n",
        "    str(fps),\n",
        "    \"-start_number\",\n",
        "    str(init_frame),\n",
        "    \"-i\",\n",
        "    image_path,\n",
        "    \"-frames:v\",\n",
        "    str(last_frame + 1),\n",
        "    \"-c:v\",\n",
        "    \"libx264\",\n",
        "    \"-vf\",\n",
        "    f\"fps={fps}\",\n",
        "    \"-pix_fmt\",\n",
        "    \"yuv420p\",\n",
        "    \"-crf\",\n",
        "    \"2\",\n",
        "    \"-preset\",\n",
        "    \"veryslow\",\n",
        "    filepath,\n",
        "]\n",
        "\n",
        "process = subprocess.Popen(\n",
        "    cmd, cwd=f\"{batchFolder}\", stdout=subprocess.PIPE, stderr=subprocess.PIPE\n",
        ")\n",
        "stdout, stderr = process.communicate()\n",
        "if process.returncode != 0:\n",
        "    print(stderr)\n",
        "    raise RuntimeError(stderr)\n",
        "else:\n",
        "    print(\"The video is ready and saved to the images folder\")"
      ]
    }
  ],
  "metadata": {
    "colab": {
      "collapsed_sections": [],
      "name": "create_animations.ipynb",
      "provenance": []
    },
    "kernelspec": {
      "display_name": "Python 3",
      "name": "python3"
    },
    "language_info": {
      "name": "python",
      "version": "3.9.7"
    }
  },
  "nbformat": 4,
  "nbformat_minor": 0
}
